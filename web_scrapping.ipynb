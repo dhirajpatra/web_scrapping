```python
import requests
from bs4 import BeautifulSoup
from lxml import html
```

General GET page demo


```python
content = requests.get("https://www.imdb.com/find?q=Mark&s=nm&exact=true&ref_=fn_al_nm_ex")
```


```python
doc = BeautifulSoup(content.text, 'html.parser')
```


```python
# grab all the titles
name_tags = doc.find_all(class_='result_text')

# lets print first 5
for name in name_tags:
    print(name.a.string)
```

    Mark Hamill
    Mark Lindsay Chapman
    Mark Borchardt
    Mark Ballas
    Mark Krenik
    Mark Wright
    Mark Adderley
    Mark Long
    Mark Ramsey
    Mark Hudson
    Mark Munoz
    Mark Wright Sr.
    Mark Dumas
    Mark Rogers
    Mark Cruickshank
    Mark Caruso
    Markivus Nious
    Mark Houghton
    Mark
    Mark Marek
    Mark Rhodes
    Mark Tuan
    Mark Vernal
    Marco A. David
    Mark McCullough
    Matt Markham
    Mark Jenkins
    Michael Calacino
    Markus Schaub
    Mark
    Mariusz Kotowski
    Shellie Marie Shartzer
    Fernando Mark Paiz
    Mark Philpot
    Mark Moar
    Joseph M. Teminsky
    Mark Blockovich
    Mike Bloom
    Mark
    Mark Paras
    Mark Kelley
    Marcos Vidal
    Mark East
    Mark Bowyer
    Mark Klabin
    Anthony Hoyes
    Marcus Chenoweth
    Mark Huckabone
    Mark Sutherland
    Mark Margason
    Mark Hasche
    Marques Pardue
    Mark Drelich
    Mark Pickston
    Mark Schaub
    Mark Held
    Mark Jackson
    Mark
    Mark
    Marcus Moore
    LeMarquis Goods II
    Mark
    Mark
    Mark Lambrecht
    Mark Byron
    Marko Panzic
    Mark
    Mark Yturralde
    Mark Huebner
    Mark
    Mark Lotenberg
    Mark
    Mark Yenter
    Mark
    Mark
    Mark O'Connor
    Mark
    Mark
    Mark
    Erickson Ellaga
    Mark
    Mark Lim
    Mark
    Mark
    Mark
    Mark
    Mark
    Mark Rosenberg
    Jenny Harada
    Mark
    Mark
    Mark
    Mark
    Mark
    Mark
    Mark
    Mark Frazier
    Mark
    Mark
    Mark
    Mark
    Mark
    Mark Schild
    Mark
    Mark
    Mark
    Mark
    Parveen Mark
    Mark
    Mark
    Mark
    Mark
    Mark
    Mark
    Mark
    Mark
    Mark
    Mark
    Mark
    Mark Wagner
    Mark
    Mark
    Mark
    Mark
    Mark
    Mark
    Mark
    Mark
    Martin O'Connor
    Mark Bell
    Mark
    Mark
    Mark Schroeder
    Mark
    Mark Morency
    Mark Eisenhardt
    Mark
    Mark
    Mark
    Mark
    Mark
    Mark
    Mark
    David Streeter
    Mark
    Mark
    Mark
    Mark
    Mark
    Mark
    Mark
    Mark
    Mark
    Mark
    Mark
    Mark
    Mark
    Mark
    Mark
    Mark Deuber
    Mark
    Mark
    Mark
    Mark
    Mark
    Mark
    Mark
    Mark Thomas
    Mark Luz
    Mark
    Mark Moskovitz
    Mark
    Mark Cruz
    Mark
    Mark
    Mark
    Mark Manning
    Mark Nagle
    Mark Ludford
    Mark
    Mark Ganter
    Mark
    Mark
    Mark
    Mark
    Mark
    Mark
    Mark
    Mark
    Mark Hoban
    Mark
    Mark
    Sheng-Chien Tsai
    Mark
    Mark
    Mark Callow
    Mark
    Mark Shire
    Mark


POST page demo


```python
data = {
    'lastName': 'Kelly',
    'firstName': 'John',
    'boardCode': '9',
    'licenseNumber': '',
    'licenseType': '250',
    'registryNumber': ''
}
url = 'https://search.dca.ca.gov/results'
```


```python
response = requests.post(url, data=data)
doc = BeautifulSoup(response.text, 'html.parser')

# grabing all the name tags
name_tags = doc.find_all("h3")
# lets print
for name in name_tags:
    print(name.text)
```

    KELLY, JOHN M 
    KELLY, JOHN R 
    KELLY, JOHN ROBERT 
    KELLY, JOSEPH C 
    KELLEY, JOHN P 
    KELSEY, JOHN HENRY 
    CALI, JOHN S 
    COLLIAS, JOHN CHRISTOPHER 



```python
# login and to scrap url
login_url = "http://quotes.toscrape.com/login"
get_url = "http://quotes.toscrape.com/"
```


```python
# session object
session_req = requests.session()
```


```python
# get the CSRF token
login = session_req.get(login_url)

login_html = html.fromstring(login.content)
authenticity_token = list(set(login_html.xpath("//input[@type='hidden']/@value")))[0]

print(authenticity_token)
```

    BeayILXqJgfZSQUFuxtRVsTADPdmhrcEznYbKpNOwlWvCkijHMGo



```python
payload = {
    "username": "dhiraj",
    "password": "12345678",
    "csrf_token": authenticity_token
}
```


```python
# post request
post = session_req.post(
    login_url,
    data=payload
)
```


```python
# getting the required page
result = session_req.get(
    get_url
)
```


```python
soup = BeautifulSoup(result.text, 'html.parser')
soup
```




    <!DOCTYPE html>
    
    <html lang="en">
    <head>
    <meta charset="utf-8"/>
    <title>Quotes to Scrape</title>
    <link href="/static/bootstrap.min.css" rel="stylesheet"/>
    <link href="/static/main.css" rel="stylesheet"/>
    </head>
    <body>
    <div class="container">
    <div class="row header-box">
    <div class="col-md-8">
    <h1>
    <a href="/" style="text-decoration: none">Quotes to Scrape</a>
    </h1>
    </div>
    <div class="col-md-4">
    <p>
    <a href="/logout">Logout</a>
    </p>
    </div>
    </div>
    <div class="row">
    <div class="col-md-8">
    <div class="quote" itemscope="" itemtype="http://schema.org/CreativeWork">
    <span class="text" itemprop="text">“The world as we have created it is a process of our thinking. It cannot be changed without changing our thinking.”</span>
    <span>by <small class="author" itemprop="author">Albert Einstein</small>
    <a href="/author/Albert-Einstein">(about)</a> - <a href="http://goodreads.com/author/show/9810.Albert_Einstein">(Goodreads page)</a>
    </span>
    <div class="tags">
                Tags:
                <meta class="keywords" content="change,deep-thoughts,thinking,world" itemprop="keywords"/>
    <a class="tag" href="/tag/change/page/1/">change</a>
    <a class="tag" href="/tag/deep-thoughts/page/1/">deep-thoughts</a>
    <a class="tag" href="/tag/thinking/page/1/">thinking</a>
    <a class="tag" href="/tag/world/page/1/">world</a>
    </div>
    </div>
    <div class="quote" itemscope="" itemtype="http://schema.org/CreativeWork">
    <span class="text" itemprop="text">“It is our choices, Harry, that show what we truly are, far more than our abilities.”</span>
    <span>by <small class="author" itemprop="author">J.K. Rowling</small>
    <a href="/author/J-K-Rowling">(about)</a> - <a href="http://goodreads.com/author/show/1077326.J_K_Rowling">(Goodreads page)</a>
    </span>
    <div class="tags">
                Tags:
                <meta class="keywords" content="abilities,choices" itemprop="keywords"/>
    <a class="tag" href="/tag/abilities/page/1/">abilities</a>
    <a class="tag" href="/tag/choices/page/1/">choices</a>
    </div>
    </div>
    <div class="quote" itemscope="" itemtype="http://schema.org/CreativeWork">
    <span class="text" itemprop="text">“There are only two ways to live your life. One is as though nothing is a miracle. The other is as though everything is a miracle.”</span>
    <span>by <small class="author" itemprop="author">Albert Einstein</small>
    <a href="/author/Albert-Einstein">(about)</a> - <a href="http://goodreads.com/author/show/9810.Albert_Einstein">(Goodreads page)</a>
    </span>
    <div class="tags">
                Tags:
                <meta class="keywords" content="inspirational,life,live,miracle,miracles" itemprop="keywords"/>
    <a class="tag" href="/tag/inspirational/page/1/">inspirational</a>
    <a class="tag" href="/tag/life/page/1/">life</a>
    <a class="tag" href="/tag/live/page/1/">live</a>
    <a class="tag" href="/tag/miracle/page/1/">miracle</a>
    <a class="tag" href="/tag/miracles/page/1/">miracles</a>
    </div>
    </div>
    <div class="quote" itemscope="" itemtype="http://schema.org/CreativeWork">
    <span class="text" itemprop="text">“The person, be it gentleman or lady, who has not pleasure in a good novel, must be intolerably stupid.”</span>
    <span>by <small class="author" itemprop="author">Jane Austen</small>
    <a href="/author/Jane-Austen">(about)</a> - <a href="http://goodreads.com/author/show/1265.Jane_Austen">(Goodreads page)</a>
    </span>
    <div class="tags">
                Tags:
                <meta class="keywords" content="aliteracy,books,classic,humor" itemprop="keywords"/>
    <a class="tag" href="/tag/aliteracy/page/1/">aliteracy</a>
    <a class="tag" href="/tag/books/page/1/">books</a>
    <a class="tag" href="/tag/classic/page/1/">classic</a>
    <a class="tag" href="/tag/humor/page/1/">humor</a>
    </div>
    </div>
    <div class="quote" itemscope="" itemtype="http://schema.org/CreativeWork">
    <span class="text" itemprop="text">“Imperfection is beauty, madness is genius and it's better to be absolutely ridiculous than absolutely boring.”</span>
    <span>by <small class="author" itemprop="author">Marilyn Monroe</small>
    <a href="/author/Marilyn-Monroe">(about)</a> - <a href="http://goodreads.com/author/show/82952.Marilyn_Monroe">(Goodreads page)</a>
    </span>
    <div class="tags">
                Tags:
                <meta class="keywords" content="be-yourself,inspirational" itemprop="keywords"/>
    <a class="tag" href="/tag/be-yourself/page/1/">be-yourself</a>
    <a class="tag" href="/tag/inspirational/page/1/">inspirational</a>
    </div>
    </div>
    <div class="quote" itemscope="" itemtype="http://schema.org/CreativeWork">
    <span class="text" itemprop="text">“Try not to become a man of success. Rather become a man of value.”</span>
    <span>by <small class="author" itemprop="author">Albert Einstein</small>
    <a href="/author/Albert-Einstein">(about)</a> - <a href="http://goodreads.com/author/show/9810.Albert_Einstein">(Goodreads page)</a>
    </span>
    <div class="tags">
                Tags:
                <meta class="keywords" content="adulthood,success,value" itemprop="keywords"/>
    <a class="tag" href="/tag/adulthood/page/1/">adulthood</a>
    <a class="tag" href="/tag/success/page/1/">success</a>
    <a class="tag" href="/tag/value/page/1/">value</a>
    </div>
    </div>
    <div class="quote" itemscope="" itemtype="http://schema.org/CreativeWork">
    <span class="text" itemprop="text">“It is better to be hated for what you are than to be loved for what you are not.”</span>
    <span>by <small class="author" itemprop="author">André Gide</small>
    <a href="/author/Andre-Gide">(about)</a> - <a href="http://goodreads.com/author/show/7617.Andr_Gide">(Goodreads page)</a>
    </span>
    <div class="tags">
                Tags:
                <meta class="keywords" content="life,love" itemprop="keywords"/>
    <a class="tag" href="/tag/life/page/1/">life</a>
    <a class="tag" href="/tag/love/page/1/">love</a>
    </div>
    </div>
    <div class="quote" itemscope="" itemtype="http://schema.org/CreativeWork">
    <span class="text" itemprop="text">“I have not failed. I've just found 10,000 ways that won't work.”</span>
    <span>by <small class="author" itemprop="author">Thomas A. Edison</small>
    <a href="/author/Thomas-A-Edison">(about)</a> - <a href="http://goodreads.com/author/show/3091287.Thomas_A_Edison">(Goodreads page)</a>
    </span>
    <div class="tags">
                Tags:
                <meta class="keywords" content="edison,failure,inspirational,paraphrased" itemprop="keywords"/>
    <a class="tag" href="/tag/edison/page/1/">edison</a>
    <a class="tag" href="/tag/failure/page/1/">failure</a>
    <a class="tag" href="/tag/inspirational/page/1/">inspirational</a>
    <a class="tag" href="/tag/paraphrased/page/1/">paraphrased</a>
    </div>
    </div>
    <div class="quote" itemscope="" itemtype="http://schema.org/CreativeWork">
    <span class="text" itemprop="text">“A woman is like a tea bag; you never know how strong it is until it's in hot water.”</span>
    <span>by <small class="author" itemprop="author">Eleanor Roosevelt</small>
    <a href="/author/Eleanor-Roosevelt">(about)</a> - <a href="http://goodreads.com/author/show/44566.Eleanor_Roosevelt">(Goodreads page)</a>
    </span>
    <div class="tags">
                Tags:
                <meta class="keywords" content="misattributed-eleanor-roosevelt" itemprop="keywords"/>
    <a class="tag" href="/tag/misattributed-eleanor-roosevelt/page/1/">misattributed-eleanor-roosevelt</a>
    </div>
    </div>
    <div class="quote" itemscope="" itemtype="http://schema.org/CreativeWork">
    <span class="text" itemprop="text">“A day without sunshine is like, you know, night.”</span>
    <span>by <small class="author" itemprop="author">Steve Martin</small>
    <a href="/author/Steve-Martin">(about)</a> - <a href="http://goodreads.com/author/show/7103.Steve_Martin">(Goodreads page)</a>
    </span>
    <div class="tags">
                Tags:
                <meta class="keywords" content="humor,obvious,simile" itemprop="keywords"/>
    <a class="tag" href="/tag/humor/page/1/">humor</a>
    <a class="tag" href="/tag/obvious/page/1/">obvious</a>
    <a class="tag" href="/tag/simile/page/1/">simile</a>
    </div>
    </div>
    <nav>
    <ul class="pager">
    <li class="next">
    <a href="/page/2/">Next <span aria-hidden="true">→</span></a>
    </li>
    </ul>
    </nav>
    </div>
    <div class="col-md-4 tags-box">
    <h2>Top Ten tags</h2>
    <span class="tag-item">
    <a class="tag" href="/tag/love/" style="font-size: 28px">love</a>
    </span>
    <span class="tag-item">
    <a class="tag" href="/tag/inspirational/" style="font-size: 26px">inspirational</a>
    </span>
    <span class="tag-item">
    <a class="tag" href="/tag/life/" style="font-size: 26px">life</a>
    </span>
    <span class="tag-item">
    <a class="tag" href="/tag/humor/" style="font-size: 24px">humor</a>
    </span>
    <span class="tag-item">
    <a class="tag" href="/tag/books/" style="font-size: 22px">books</a>
    </span>
    <span class="tag-item">
    <a class="tag" href="/tag/reading/" style="font-size: 14px">reading</a>
    </span>
    <span class="tag-item">
    <a class="tag" href="/tag/friendship/" style="font-size: 10px">friendship</a>
    </span>
    <span class="tag-item">
    <a class="tag" href="/tag/friends/" style="font-size: 8px">friends</a>
    </span>
    <span class="tag-item">
    <a class="tag" href="/tag/truth/" style="font-size: 8px">truth</a>
    </span>
    <span class="tag-item">
    <a class="tag" href="/tag/simile/" style="font-size: 6px">simile</a>
    </span>
    </div>
    </div>
    </div>
    <footer class="footer">
    <div class="container">
    <p class="text-muted">
                    Quotes by: <a href="https://www.goodreads.com/quotes">GoodReads.com</a>
    </p>
    <p class="copyright">
                    Made with <span class="sh-red">❤</span> by <a href="https://scrapinghub.com">Scrapinghub</a>
    </p>
    </div>
    </footer>
    </body>
    </html>



More complex form page demo


```python
# scrapping a complex form data
from selenium import webdriver
from selenium.webdriver.common.by import By
from selenium.webdriver.chrome.options import Options
from selenium.webdriver.support.ui import WebDriverWait
from selenium.webdriver.support import expected_conditions as EC
from selenium.webdriver.support.ui import Select
```


```python
# adding options
chromeOptions = Options()
chromeOptions.add_argument("--kiosk")
```


```python
# opening the webpage
driver = webdriver.Chrome("/home/dhirajpatra/chromedriver", options=chromeOptions)
driver.get("http://automationpractice.com/index.php?controller=authentication&back=my-account")
```


```python
# web driver wait
element = WebDriverWait(driver, 10).until(EC.element_to_be_clickable(By.NAME, "email_create"))
```


    ---------------------------------------------------------------------------

    TypeError                                 Traceback (most recent call last)

    <ipython-input-76-dd4d4a1bc1a9> in <module>
          1 # web driver wait
    ----> 2 element = WebDriverWait(driver, 10).until(EC.element_to_be_clickable(By.NAME, "email_create"))
    

    TypeError: __init__() takes 2 positional arguments but 3 were given



```python
# email submit
dest_search = driver.find_element_by_name("email_create")
dest_search.clear()
dest_search.send_keys("test_user@live.com")

# clicking on create account
submit_button = driver.find_element_by_xpath("//button[@id='SubmitCreate']")
submit_button.click()
```

Filling the information in form


```python
# radio button
radio_button_male = driver.find_element_by_id("id_gender1")
radio_button_male.click()
```


```python
# account info
first_name = driver.find_element_by_id("customer_firstname")
first_name.send_keys("Test1")

last_name = driver.find_element_by_id("customer_lastname")
last_name.send_keys("User1")

password = driver.find_element_by_id("passwd")
password.send_keys("password123")
```


```python
# selection
dob_date = Select(driver.find_element_by_id("days"))
dob_date.select_by_value('10')

dob_month = Select(driver.find_element_by_id("months"))
dob_month.select_by_value('May')

dob_year = Select(driver.find_element_by_id("years"))
dob_year.select_by_value('2000')
```


```python
# checkbox
newsletter = driver.find_element_by_id("newsletter")
newsletter.click()

reg_button = driver.find_element_by_xpath("//button[@id='submitAction']").click()
```

File upload demo
for reverse image search


```python
# opening the webpage
driver = webdriver.Chrome("/home/dhirajpatra/chromedriver", options=chromeOptions)
driver.get("https://tineye.com/")
```


```python
file_upload = driver.find_element_by_name("image")
file_uploade.send_keys("/home/dhirajpatra/Pictures/nltk.png")
```


```python
page_source_overview = driver.page_source
```


```python
doc = BeautifulSoup(page_source_overview, 'html.parser')
```


```python
# grab the site name
site_names = doc.find_all(class_='match')

for site in site_names:
    print(site.a.string)
```


```python
driver.quit()
```
